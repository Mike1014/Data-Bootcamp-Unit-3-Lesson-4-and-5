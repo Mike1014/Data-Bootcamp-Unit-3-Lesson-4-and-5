{
 "cells": [
  {
   "cell_type": "code",
   "execution_count": 1,
   "metadata": {
    "collapsed": true
   },
   "outputs": [],
   "source": [
    "import pandas as pd\n",
    "import numpy as np\n",
    "import scipy\n",
    "import matplotlib.pyplot as plt\n",
    "%matplotlib inline\n",
    "\n",
    "from sklearn import ensemble\n",
    "from sklearn import datasets\n",
    "from sklearn.utils import shuffle\n",
    "from sklearn.metrics import mean_squared_error"
   ]
  },
  {
   "cell_type": "code",
   "execution_count": 2,
   "metadata": {
    "collapsed": true
   },
   "outputs": [],
   "source": [
    "df = pd.read_csv((\n",
    "    \"https://raw.githubusercontent.com/Thinkful-Ed/data-201-resources/\"\n",
    "    \"master/ESS_practice_data/ESSdata_Thinkful.csv\")).dropna()\n",
    "\n",
    "# Definine outcome and predictors.\n",
    "# Set our outcome to 0 and 1.\n",
    "y = df['partner'] - 1\n",
    "X = df.loc[:, ~df.columns.isin(['partner', 'cntry', 'idno'])]\n",
    "\n",
    "# Make the categorical variable 'country' into dummies.\n",
    "X = pd.concat([X, pd.get_dummies(df['cntry'])], axis=1)\n",
    "X = X.drop(['NO', 'SE'], 1)\n",
    "\n",
    "# Make a categorical variable for 'Nordic' Countries\n",
    "X['Nordic'] = np.where((df['cntry'].isin(['NO', 'SE'])), 1, 0)"
   ]
  },
  {
   "cell_type": "code",
   "execution_count": 34,
   "metadata": {
    "collapsed": true
   },
   "outputs": [],
   "source": [
    "# Subsampling for training and testing data\n",
    "## create training and test set\n",
    "train_set = int(X.shape[0] * 0.5)\n",
    "test_set = int(X.shape[0] * 0.05)\n",
    "\n",
    "# Randomly choose 85% of data for training set\n",
    "X_train, y_train = X.sample(train_set), y.sample(train_set)\n",
    "\n",
    "# Randomly choose 15% of data for test set\n",
    "X_test, y_test = X.sample(test_set), y.sample(test_set)"
   ]
  },
  {
   "cell_type": "code",
   "execution_count": 37,
   "metadata": {
    "collapsed": true
   },
   "outputs": [],
   "source": [
    "# Create training and test sets.\n",
    "offset = int(X.shape[0] * 0.9)\n",
    "\n",
    "# Put 90% of the data in the training set.\n",
    "X_train, y_train = X[:offset], y[:offset]\n",
    "\n",
    "# And put 10% in the test set.\n",
    "X_test, y_test = X[offset:], y[offset:]"
   ]
  },
  {
   "cell_type": "code",
   "execution_count": 38,
   "metadata": {
    "collapsed": true
   },
   "outputs": [],
   "source": [
    "# We'll make 500 iterations, use 2-deep trees, and set our loss function.\n",
    "params = {'n_estimators': 2000,\n",
    "          'max_depth': 3,\n",
    "          'loss': 'deviance'}    # Note: deviance is used for logistic regression\n",
    "\n",
    "# Initialize and fit the model.\n",
    "clf = ensemble.GradientBoostingClassifier(**params)   # pass params as a dictionary and not just a single variable\n",
    "clf.fit(X_train, y_train)\n",
    "\n",
    "predict_train = clf.predict(X_train)\n",
    "predict_test = clf.predict(X_test)"
   ]
  },
  {
   "cell_type": "code",
   "execution_count": 39,
   "metadata": {},
   "outputs": [
    {
     "name": "stdout",
     "output_type": "stream",
     "text": [
      "Training set accuracy:\n",
      "Percent Type I errors: 0.02236770321876705\n",
      "Percent Type II errors: 0.11006546644844517\n",
      "\n",
      "Test set accuracy:\n",
      "Percent Type I errors: 0.10797546012269939\n",
      "Percent Type II errors: 0.17791411042944785\n"
     ]
    }
   ],
   "source": [
    "# Accuracy tables.\n",
    "table_train = pd.crosstab(y_train, predict_train, margins=True)\n",
    "table_test = pd.crosstab(y_test, predict_test, margins=True)\n",
    "\n",
    "train_tI_errors = table_train.loc[0.0,1.0] / table_train.loc['All','All']\n",
    "train_tII_errors = table_train.loc[1.0,0.0] / table_train.loc['All','All']\n",
    "\n",
    "test_tI_errors = table_test.loc[0.0,1.0] / table_test.loc['All','All']\n",
    "test_tII_errors = table_test.loc[1.0,0.0] / table_test.loc['All','All']\n",
    "\n",
    "print((\n",
    "    'Training set accuracy:\\n'\n",
    "    'Percent Type I errors: {}\\n'\n",
    "    'Percent Type II errors: {}\\n\\n'\n",
    "    'Test set accuracy:\\n'\n",
    "    'Percent Type I errors: {}\\n'\n",
    "    'Percent Type II errors: {}'\n",
    ").format(train_tI_errors, train_tII_errors, test_tI_errors, test_tII_errors))"
   ]
  },
  {
   "cell_type": "markdown",
   "metadata": {},
   "source": [
    "    Note: It is fine to have a trade-off between Type I and II error"
   ]
  },
  {
   "cell_type": "markdown",
   "metadata": {},
   "source": [
    "> Better for reduce Type I error rate:\n",
    "    \n",
    "    subsampling\n",
    "    loss function\n",
    "\n",
    "> Better for reduce Type II error rate\n",
    "\n",
    "    increased iteration from 500 -> 2000\n",
    "    increased max depth (note: more likely to overfit when the depth is higher)"
   ]
  },
  {
   "cell_type": "markdown",
   "metadata": {},
   "source": [
    "# Note to self: want to make the changes one by one\n",
    "    focus on accuracy of test set"
   ]
  },
  {
   "cell_type": "markdown",
   "metadata": {},
   "source": [
    "> Original Results\n",
    "    \n",
    "    Training set accuracy:\n",
    "    Percent Type I errors: 0.04650845608292417\n",
    "    Percent Type II errors: 0.17607746863066012\n",
    "\n",
    "    Test set accuracy:\n",
    "    Percent Type I errors: 0.06257668711656442\n",
    "    Percent Type II errors: 0.18527607361963191\n",
    "    \n",
    "> after subsampling\n",
    "\n",
    "    Training set accuracy:\n",
    "    Percent Type I errors: 0.02332433095998036\n",
    "    Percent Type II errors: 0.3255585563466732\n",
    "\n",
    "    Test set accuracy:\n",
    "    Percent Type I errors: 0.044226044226044224\n",
    "    Percent Type II errors: 0.3955773955773956\n",
    "    \n",
    "> after increased iteration\n",
    "\n",
    "    Training set accuracy:\n",
    "    Percent Type I errors: 0.04091653027823241\n",
    "    Percent Type II errors: 0.1610747408619749\n",
    "\n",
    "    Test set accuracy:\n",
    "    Percent Type I errors: 0.07730061349693251\n",
    "    Percent Type II errors: 0.17300613496932515\n",
    "    \n",
    "> after increase max depth\n",
    "\n",
    "    Training set accuracy:\n",
    "    Percent Type I errors: 0.035597381342062195\n",
    "    Percent Type II errors: 0.15452809601745773\n",
    "\n",
    "    Test set accuracy:\n",
    "    Percent Type I errors: 0.08098159509202454\n",
    "    Percent Type II errors: 0.17914110429447852\n",
    "    \n",
    "> changing loss function\n",
    "\n",
    "    Training set accuracy:\n",
    "    Percent Type I errors: 0.04937261320240044\n",
    "    Percent Type II errors: 0.1773049645390071\n",
    "\n",
    "    Test set accuracy:\n",
    "    Percent Type I errors: 0.05521472392638037\n",
    "    Percent Type II errors: 0.1901840490797546"
   ]
  },
  {
   "cell_type": "markdown",
   "metadata": {},
   "source": [
    "> after subsampling and increased iteration\n",
    "\n",
    "    Training set accuracy:\n",
    "    Percent Type I errors: 0.05303216302479745\n",
    "    Percent Type II errors: 0.24404615762337342\n",
    "\n",
    "    Test set accuracy:\n",
    "    Percent Type I errors: 0.1375921375921376\n",
    "    Percent Type II errors: 0.31695331695331697\n",
    "    \n",
    "> after subsampling and change loss function\n",
    "\n",
    "    Training set accuracy:\n",
    "    Percent Type I errors: 0.023078811686717406\n",
    "    Percent Type II errors: 0.32531303707341025\n",
    "\n",
    "    Test set accuracy:\n",
    "    Percent Type I errors: 0.04176904176904177\n",
    "    Percent Type II errors: 0.343980343980344\n",
    "    \n",
    "> after increasing iteration and max depth      \n",
    "* this seem to be better for training set, but bad for test set => no good\n",
    "\n",
    "    Training set accuracy:\n",
    "    Percent Type I errors: 0.02236770321876705\n",
    "    Percent Type II errors: 0.11006546644844517\n",
    "\n",
    "    Test set accuracy:\n",
    "    Percent Type I errors: 0.10797546012269939\n",
    "    Percent Type II errors: 0.17791411042944785"
   ]
  },
  {
   "cell_type": "code",
   "execution_count": 9,
   "metadata": {},
   "outputs": [
    {
     "data": {
      "image/png": "[encoded data removed]",
      "text/plain": [
       "<matplotlib.figure.Figure at 0x25b62165278>"
      ]
     },
     "metadata": {},
     "output_type": "display_data"
    }
   ],
   "source": [
    "feature_importance = clf.feature_importances_\n",
    "\n",
    "# Make importances relative to max importance.\n",
    "feature_importance = 100.0 * (feature_importance / feature_importance.max())\n",
    "sorted_idx = np.argsort(feature_importance)\n",
    "pos = np.arange(sorted_idx.shape[0]) + .5\n",
    "plt.subplot(1, 2, 2)\n",
    "plt.barh(pos, feature_importance[sorted_idx], align='center')\n",
    "plt.yticks(pos, X.columns[sorted_idx])\n",
    "plt.xlabel('Relative Importance')\n",
    "plt.title('Variable Importance')\n",
    "plt.show()"
   ]
  }
 ],
 "metadata": {
  "kernelspec": {
   "display_name": "Python 3",
   "language": "python",
   "name": "python3"
  },
  "language_info": {
   "codemirror_mode": {
    "name": "ipython",
    "version": 3
   },
   "file_extension": ".py",
   "mimetype": "text/x-python",
   "name": "python",
   "nbconvert_exporter": "python",
   "pygments_lexer": "ipython3",
   "version": "3.6.1"
  }
 },
 "nbformat": 4,
 "nbformat_minor": 2
}
